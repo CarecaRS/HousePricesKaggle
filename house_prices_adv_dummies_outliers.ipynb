{
 "cells": [
  {
   "cell_type": "markdown",
   "metadata": {},
   "source": [
    "# MBA DSA USP/ESALQ 2024.1 Time 2\n",
    "## Desafio House Prices"
   ]
  },
  {
   "cell_type": "markdown",
   "metadata": {},
   "source": [
    "## A fazer:\n",
    "- Modelo de regressão linear nos dados normalizados possui resultado explosivo. Indicações que pode ocorrer em função de outliers (o que não acontece em algoritmos tree-based, como xgboost, gradient boost, decision trees e random forests). Seguir verificando.\n",
    "- Normalização Gelman (http://www.stat.columbia.edu/~gelman/research/published/standardizing7.pdf) - 1/(2*sd)\n",
    "\n",
    "Primeiro aproach sem pré-processamento dos dados por ML. Em uma próxima abordagem pode ser realizado algum tipo de pré-processamento contido no TensorFlow ou Scikit-Learn."
   ]
  },
  {
   "cell_type": "markdown",
   "metadata": {},
   "source": [
    "# Processamento dos dados"
   ]
  },
  {
   "cell_type": "markdown",
   "metadata": {},
   "source": [
    "## Carregamento dos dados"
   ]
  },
  {
   "cell_type": "markdown",
   "metadata": {},
   "source": [
    "Importação das bibliotecas necessárias"
   ]
  },
  {
   "cell_type": "code",
   "execution_count": 1,
   "metadata": {},
   "outputs": [],
   "source": [
    "import pandas as pd\n",
    "import numpy as np\n",
    "\n",
    "pd.set_option('display.max_columns', None)\n",
    "#pd.set_option('display.max_rows', None)\n",
    "np.set_printoptions(suppress=True, precision=6)"
   ]
  },
  {
   "cell_type": "markdown",
   "metadata": {},
   "source": [
    "Leitura dos dados amplos (arquivos de treino/teste) para unificação e tratamento por completo antes da modelagem."
   ]
  },
  {
   "cell_type": "code",
   "execution_count": 2,
   "metadata": {},
   "outputs": [
    {
     "name": "stdout",
     "output_type": "stream",
     "text": [
      "Quantidade de linhas e colunas\n",
      "(2919, 82)\n"
     ]
    }
   ],
   "source": [
    "treino = pd.read_csv(\"train.csv\")\n",
    "teste = pd.read_csv(\"test.csv\")\n",
    "\n",
    "# Ajuste das dimensões - inclusão da coluna SalePrice no dataset de teste\n",
    "teste[\"SalePrice\"] = 0\n",
    "\n",
    "# Inclusão de informação sobre dataset de origem\n",
    "teste[\"Origem\"] = \"Teste\"\n",
    "treino[\"Origem\"] = \"Treino\"\n",
    "\n",
    "dados_brutos = pd.concat([treino, teste])\n",
    "\n",
    "print(\"Quantidade de linhas e colunas\")\n",
    "print(dados_brutos.shape)"
   ]
  },
  {
   "cell_type": "markdown",
   "metadata": {},
   "source": [
    "## Análise das variáveis categóricas/de classificação"
   ]
  },
  {
   "cell_type": "markdown",
   "metadata": {},
   "source": [
    "### Separação das variáveis entre categóricas e numéricas"
   ]
  },
  {
   "cell_type": "code",
   "execution_count": 3,
   "metadata": {},
   "outputs": [],
   "source": [
    "coluna_origem = dados_brutos[\"Origem\"]\n",
    "#coluna_ids = dados_brutos[\"Id\"]\n",
    "\n",
    "colunas_quali = dados_brutos.columns[dados_brutos.dtypes == \"object\"]\n",
    "variaveis_quanti = dados_brutos.drop(colunas_quali, axis = 1)\n",
    "\n",
    "colunas_quanti = dados_brutos.columns[dados_brutos.dtypes != \"object\"]\n",
    "variaveis_quali = dados_brutos.drop(colunas_quanti, axis = 1)\n",
    "\n",
    "\"\"\"\n",
    "#print(\"AS VARIÁVEIS NUMÉRICAS ('QUANTI') ENTÃO SÃO \" + str(len(variaveis_quanti.columns)) + \":\")\n",
    "#print(variaveis_quanti.columns)\n",
    "#print(\"\\n\")\n",
    "\n",
    "#print(\"AS VARIÁVEIS NÃO-NÚMERICAS ('QUALI') FICAM SENDO APENAS \" + str(len(variaveis_quali.columns)) + \":\")\n",
    "#print(variaveis_quali.columns)\n",
    "#print(\"\\n\")\n",
    "\n",
    "\"\"\"\n",
    "#print(\"REINSERÇÃO DA COLUNA 'ORIGEM' PARA CONTROLE NAS VARIÁVEIS QUANTI E REFAZIMENTO DOS ÍNDICES:\")\n",
    "variaveis_quanti[\"Origem\"] = coluna_origem\n",
    "variaveis_quanti.reset_index(inplace=True)\n",
    "variaveis_quali.reset_index(inplace=True)\n",
    "variaveis_quanti = variaveis_quanti.drop(\"index\", axis = 1)\n",
    "variaveis_quanti = variaveis_quanti.drop(\"Id\", axis = 1)\n",
    "variaveis_quali = variaveis_quali.drop(\"index\", axis = 1)"
   ]
  },
  {
   "cell_type": "markdown",
   "metadata": {},
   "source": [
    "### Variáveis de Classificação"
   ]
  },
  {
   "cell_type": "markdown",
   "metadata": {},
   "source": [
    "Algumas variáveis tem valores nulos, que serão imputados com classificações apropriadas. O processo de decisão sobre a imputação é tratado caso a caso."
   ]
  },
  {
   "cell_type": "code",
   "execution_count": 4,
   "metadata": {},
   "outputs": [
    {
     "data": {
      "text/plain": [
       "'\\nprint(\"Percentual de valores nulos por cada variável:\")\\nprint(nulos_ordenados.head(25))\\nprint(\"\\nComo os últimos valores já são zero, depois desses todos são zerados mesmo. Ou seja, não existem valores nulos nas outras variáveis\")\\n'"
      ]
     },
     "execution_count": 4,
     "metadata": {},
     "output_type": "execute_result"
    }
   ],
   "source": [
    "nulos = variaveis_quali.isnull().sum()\n",
    "nulos_ordenados = (nulos.sort_values(ascending=False)/len(variaveis_quali))*100\n",
    "\n",
    "\"\"\"\n",
    "print(\"Percentual de valores nulos por cada variável:\")\n",
    "print(nulos_ordenados.head(25))\n",
    "print(\"\\nComo os últimos valores já são zero, depois desses todos são zerados mesmo. Ou seja, não existem valores nulos nas outras variáveis\")\n",
    "\"\"\""
   ]
  },
  {
   "cell_type": "markdown",
   "metadata": {},
   "source": [
    "Verificação das variáveis com maior falta de dados. Como tratam-se de variáveis de classificação, muitas vezes a imputação é simples e válida de ser feita."
   ]
  },
  {
   "cell_type": "code",
   "execution_count": 5,
   "metadata": {},
   "outputs": [
    {
     "data": {
      "text/plain": [
       "'\\nprint(\"Variáveis com % significativo de falta de dados (acima de 20%):\")\\nprint(nulos_ordenados.head(5))\\nprint(\"\\nAs demais variáveis terão todos seus valores NaN imputados ou as observações NaN serão desconsideradas.\")\\n'"
      ]
     },
     "execution_count": 5,
     "metadata": {},
     "output_type": "execute_result"
    }
   ],
   "source": [
    "\"\"\"\n",
    "print(\"Variáveis com % significativo de falta de dados (acima de 20%):\")\n",
    "print(nulos_ordenados.head(5))\n",
    "print(\"\\nAs demais variáveis terão todos seus valores NaN imputados ou as observações NaN serão desconsideradas.\")\n",
    "\"\"\""
   ]
  },
  {
   "cell_type": "markdown",
   "metadata": {},
   "source": [
    "Descrição das variáveis com maior falta de dados: \n",
    "- PoolQC: valores NaN indicam inexistência de piscina (imputar 'None' então)\n",
    "- MiscFeature: miscelânea, NaN indica inexistência desse tipo de feature (imputar 'None')\n",
    "- Alley: tipo de viela/ruazinha para acesso à casa. Se a casa tem saída para a rua principal, a característica não tem nem como existir (imputar 'None')\n",
    "- Fence: qualidade da cerca da casa, se a casa não possui cerca por obviedade essa informação é NaN (imputar 'None')\n",
    "- FireplaceQu: indica existência de lareira na casa (imputar 'None')"
   ]
  },
  {
   "cell_type": "code",
   "execution_count": 6,
   "metadata": {},
   "outputs": [],
   "source": [
    "imputar_none = [\"PoolQC\", \"MiscFeature\", \"Alley\", \"Fence\", \"FireplaceQu\"]\n",
    "variaveis_quali[imputar_none] = variaveis_quali[imputar_none].fillna(\"None\")"
   ]
  },
  {
   "cell_type": "markdown",
   "metadata": {},
   "source": [
    "#### Demais variáveis"
   ]
  },
  {
   "cell_type": "code",
   "execution_count": 7,
   "metadata": {},
   "outputs": [
    {
     "name": "stdout",
     "output_type": "stream",
     "text": [
      "Index(['GarageCond', 'GarageQual', 'GarageFinish', 'GarageType', 'BsmtCond',\n",
      "       'BsmtExposure', 'BsmtQual', 'BsmtFinType2', 'BsmtFinType1',\n",
      "       'MasVnrType', 'MSZoning', 'Functional', 'Utilities', 'KitchenQual',\n",
      "       'SaleType', 'Exterior1st', 'Exterior2nd', 'Electrical'],\n",
      "      dtype='object')\n"
     ]
    }
   ],
   "source": [
    "nulos = variaveis_quali.isnull().sum()\n",
    "nulos_ordenados = nulos.sort_values(ascending=False)\n",
    "\n",
    "temp = pd.DataFrame(nulos_ordenados)\n",
    "mask = temp[0].isin([0])\n",
    "print(temp[~mask].index)"
   ]
  },
  {
   "cell_type": "markdown",
   "metadata": {},
   "source": [
    "Imputação de 'None' diretamente:\n",
    "- \"Garage\"XYZ: as variáveis \"Garage\"XYZ classificam o estado de conservação, acabamento e localização da garagem, se existente. NaN indica inexistência de garagem (imputa 'None').\n",
    "- \"Bsmt\"XYZ: as variáveis \"Bsmt\"XYZ classificam o nível de qualidade, exposição e acabamentos do porão, se existente. NaN indica inexistência de porão (imputa 'None').\n",
    "- Exterior1st: Exterior covering on house. Deduzo que NaN indique inexistência, imputa 'None'.\n",
    "- Exterior2nd: Exterior covering on house (if more than one material) (deve ter correlação direta com o acima).\n",
    "- MasVnrType: Masonry veneer type. Descrição contempla opção de 'None', assume-se que informação inexistente corresponda a 'None'."
   ]
  },
  {
   "cell_type": "code",
   "execution_count": 8,
   "metadata": {},
   "outputs": [],
   "source": [
    "imputar_none2 = ['GarageCond', 'GarageQual', 'GarageFinish', 'GarageType', 'BsmtCond', 'BsmtExposure', 'BsmtQual', 'BsmtFinType2', 'BsmtFinType1','Exterior1st', 'Exterior2nd', 'MasVnrType']\n",
    "variaveis_quali[imputar_none2] = variaveis_quali[imputar_none2].fillna(\"None\")"
   ]
  },
  {
   "cell_type": "markdown",
   "metadata": {},
   "source": [
    "Imputação arbitrada para a classificação:\n",
    "- Functional: Home functionality (Assume typical unless deductions are warranted). NaN imputado \"Typ\".\n",
    "- SaleType: tipo de venda, imputado moda de \"OverallCond\" (banco de dados original).\n",
    "- Utilities: tipos de serviços básicos disponíveis (água, luz, gás, etc.). Imputada moda da vizinhança.\n",
    "- KitchenQual: qualidade da cozinha. Imputada moda da vizinhança.\n",
    "- Electrical: Electrical system. Imputada moda da vizinhança.\n",
    "- MSZoning: Identifies the general zoning classification of the sale. Como se trata de zoneamento, assume-se que em um mesmo bairro o zoneamento seja o mesmo(sem NaN na descrição)."
   ]
  },
  {
   "cell_type": "code",
   "execution_count": 9,
   "metadata": {},
   "outputs": [],
   "source": [
    "# Variaveis imputadas com moda da região (vizinhança)\n",
    "\n",
    "variaveis_quali[\"Functional\"] = variaveis_quali[\"Functional\"].fillna(\"Typ\")\n",
    "variaveis_quali[\"Utilities\"] = variaveis_quali[\"Utilities\"].fillna(\"AllPub\")\n",
    "variaveis_quali[\"SaleType\"] = variaveis_quali[\"SaleType\"].fillna(\"WD\")\n",
    "variaveis_quali[\"MSZoning\"].loc[2904] = \"RL\" # específico para essa observação o bairro é diferente, com outra moda\n",
    "variaveis_quali[\"MSZoning\"] = variaveis_quali[\"MSZoning\"].fillna(\"RM\")\n",
    "\n",
    "\n",
    "# Processo da imputação (\"KitchenQual\", nessa explicação)\n",
    "# Primeiro vê qual observação é NaN, extraindo a informação sobre vizinhança\n",
    "kitchen_neigh = variaveis_quali[variaveis_quali[\"KitchenQual\"].isnull()][[\"Neighborhood\"]]\n",
    "# Com a informação sobre a vizinhança, verifica a moda da vizinhança para a variável com NaN\n",
    "kitchen_qual = variaveis_quali[variaveis_quali[\"Neighborhood\"] == kitchen_neigh.iloc[0,0]][[\"KitchenQual\"]].mode()\n",
    "# Por último, imputa a moda da vizinhança para a informação faltante\n",
    "variaveis_quali[\"KitchenQual\"] = variaveis_quali[\"KitchenQual\"].fillna(kitchen_qual.iloc[0,0])\n",
    "\n",
    "\n",
    "# Repete o processo acima, para a variável \"Electrical\"\n",
    "elec_neigh = variaveis_quali[variaveis_quali[\"Electrical\"].isnull()][[\"Neighborhood\"]]\n",
    "elec_qual = variaveis_quali[variaveis_quali[\"Neighborhood\"] == elec_neigh.iloc[0,0]][[\"Electrical\"]].mode()\n",
    "variaveis_quali[\"Electrical\"] = variaveis_quali[\"Electrical\"].fillna(elec_qual.iloc[0,0])"
   ]
  },
  {
   "cell_type": "markdown",
   "metadata": {},
   "source": [
    "### Variáveis Numéricas"
   ]
  },
  {
   "cell_type": "code",
   "execution_count": 10,
   "metadata": {},
   "outputs": [
    {
     "data": {
      "text/plain": [
       "'\\nnulos_quanti = variaveis_quanti.isnull().sum()\\nnulos_ordenados_quanti = (nulos_quanti.sort_values(ascending=False)/len(variaveis_quanti))*100\\n\\nprint(\"Percentual de valores nulos por cada variável:\")\\nprint(nulos_ordenados_quanti.head(12))\\nprint(\"\\nComo os últimos valores já são zero, depois desses todos são zerados mesmo. Ou seja, não existem valores nulos nas outras variáveis\")\\n'"
      ]
     },
     "execution_count": 10,
     "metadata": {},
     "output_type": "execute_result"
    }
   ],
   "source": [
    "\"\"\"\n",
    "nulos_quanti = variaveis_quanti.isnull().sum()\n",
    "nulos_ordenados_quanti = (nulos_quanti.sort_values(ascending=False)/len(variaveis_quanti))*100\n",
    "\n",
    "print(\"Percentual de valores nulos por cada variável:\")\n",
    "print(nulos_ordenados_quanti.head(12))\n",
    "print(\"\\nComo os últimos valores já são zero, depois desses todos são zerados mesmo. Ou seja, não existem valores nulos nas outras variáveis\")\n",
    "\"\"\""
   ]
  },
  {
   "cell_type": "markdown",
   "metadata": {},
   "source": [
    "Variáveis ajustadas:\n",
    "- GarageArea - tamanho da garagem, utilizada a mediana das garagens com mesmo GarageType.\n",
    "- GarageYrBlt - Ano em que a garagem foi construída. Se existe uma garagem construída após a última reforma (GarageYrBlt > YearRemodAdd), é estabelecido que esse ano maior seja o ano da última reforma. A variável GarageYrBlt é utilizada para a contabilização da idade da casa (quanto menor, melhor; reflete positivamente no preço).\n",
    "- LotFrontage - Dimensão da frente do terreno, em pés. Calculada a partir da divisão da LotArea pela média da divisão LotArea/LotFrontage dos valores pré-existentes.\n",
    "- MasVnrArea - Masonry veneer area in square feet. Relação direta com a MasVnrType (variável qualitativa) - se esta é inexistente (como todas NaN aqui são), então a área é 0.\n",
    "- GarageCars - tamanho da garagem em questão de capacidade de números de carros, utilizada média das demais garagens em função da área da garagem.\n",
    "- BsmtHalfBath - valores NaN pois não existem porões, imputado zero."
   ]
  },
  {
   "cell_type": "code",
   "execution_count": 11,
   "metadata": {},
   "outputs": [
    {
     "name": "stderr",
     "output_type": "stream",
     "text": [
      "/tmp/ipykernel_145924/2072175058.py:14: SettingWithCopyWarning: \n",
      "A value is trying to be set on a copy of a slice from a DataFrame\n",
      "\n",
      "See the caveats in the documentation: https://pandas.pydata.org/pandas-docs/stable/user_guide/indexing.html#returning-a-view-versus-a-copy\n",
      "  variaveis_quanti[\"YearBuilt\"].loc[ajuste_ano.index[:]] = variaveis_quanti[\"GarageYrBlt\"].loc[ajuste_ano.index[:]]\n",
      "/tmp/ipykernel_145924/2072175058.py:49: SettingWithCopyWarning: \n",
      "A value is trying to be set on a copy of a slice from a DataFrame\n",
      "\n",
      "See the caveats in the documentation: https://pandas.pydata.org/pandas-docs/stable/user_guide/indexing.html#returning-a-view-versus-a-copy\n",
      "  variaveis_quanti[\"GarageCars\"][vagas] = vaga_faltante # imputação do valor\n",
      "/tmp/ipykernel_145924/2072175058.py:63: SettingWithCopyWarning: \n",
      "A value is trying to be set on a copy of a slice from a DataFrame\n",
      "\n",
      "See the caveats in the documentation: https://pandas.pydata.org/pandas-docs/stable/user_guide/indexing.html#returning-a-view-versus-a-copy\n",
      "  variaveis_quanti[\"LotFrontage\"][filtro] = 0\n"
     ]
    }
   ],
   "source": [
    "\n",
    "# Imputação variável \"GarageArea\"\n",
    "#variaveis_quanti[\"GarageArea\"].isnull().sum() # a variável GarageArea possui apenas um valor nulo\n",
    "#variaveis_quanti[\"GarageArea\"][variaveis_quanti[\"GarageArea\"].isnull()] # informa que é a observação 1116\n",
    "#dados_brutos[\"GarageArea\"].loc[1116] # como são dois datasets reunidos, temos duas observações '1116', mas apenas uma NaN\n",
    "#dados_brutos[\"GarageType\"].loc[1116] # o tipo da garagem em questão é \"Detchd\", então será imputada a mediana do tamanho das garagens desse tipo\n",
    "fill_garagearea = dados_brutos[dados_brutos[\"GarageType\"] == \"Detchd\"][[\"GarageArea\"]].median() # calcula a mediana das garagens do referido tipo\n",
    "variaveis_quanti[\"GarageArea\"] = variaveis_quanti[\"GarageArea\"].fillna(fill_garagearea[0]) # imputa o valor\n",
    "\n",
    "# Uma garagem possui erro de registro, possuindo GarageYrBlt como '2207', seguro assumir que o correto seja '2007' - o ano de reforma\n",
    "variaveis_quanti.loc[2592, \"GarageYrBlt\"] = variaveis_quanti.loc[2592, \"YearRemodAdd\"]\n",
    "\n",
    "# Algumas garagens possuem ano de construção anterior ao ano da casa. Assumindo o menor entre os dois anos como a construção da casa.\n",
    "ajuste_ano = variaveis_quanti[variaveis_quanti[\"YearBuilt\"] > variaveis_quanti[\"GarageYrBlt\"]]\n",
    "variaveis_quanti[\"YearBuilt\"].loc[ajuste_ano.index[:]] = variaveis_quanti[\"GarageYrBlt\"].loc[ajuste_ano.index[:]]\n",
    "\n",
    "# Duas observações possuem YrSold < YearRemodAdd, assume-se que o ano de venda seja, no mínimo, o ano da reforma.\n",
    "variaveis_quanti.loc[523, \"YrSold\"] = variaveis_quanti.loc[523, \"YearRemodAdd\"]\n",
    "variaveis_quanti.loc[2295, \"YrSold\"] = variaveis_quanti.loc[2295, \"YearRemodAdd\"]\n",
    "\n",
    "# A observação 2549 tem como registro YrSold < YearBuilt|YearRemodAdd, imputando o maior valor entre os três para YrSold:\n",
    "variaveis_quanti.loc[2549, \"YrSold\"] = variaveis_quanti.loc[2549, \"YearRemodAdd\"]\n",
    "\n",
    "# Algumas garagens não possuem ano de construção, porém possuem área (logo, existem). Seguro assumir que foi feita junto com a casa.\n",
    "filtro = variaveis_quanti[variaveis_quanti[\"GarageYrBlt\"].isnull()].index.isin(variaveis_quali[variaveis_quali[\"GarageType\"] == \"None\"].index) == False\n",
    "garagem_semano = variaveis_quanti[variaveis_quanti[\"GarageYrBlt\"].isnull()][filtro] # registra quais Id's não possuem GarageYrBlt\n",
    "\n",
    "for i in garagem_semano.index:\n",
    "    if pd.isna(variaveis_quanti.loc[i, \"GarageYrBlt\"]):\n",
    "        variaveis_quanti.loc[i, \"GarageYrBlt\"] = variaveis_quanti.loc[i, \"YearBuilt\"]\n",
    "\n",
    "# Neste ponto todas as garagens existentes possuem anos correspondentes. De resto, é imputado '0' à GarageYrBlt para feature engeneering.\n",
    "variaveis_quanti[variaveis_quanti[\"GarageYrBlt\"].isnull()] = variaveis_quanti[variaveis_quanti[\"GarageYrBlt\"].isnull()].fillna(0)\n",
    "\n",
    "# A variável GarageYrBlt é utilizada para a contabilização da idade da casa (quanto menor, melhor; reflete diretamente no preço)\n",
    "# Se existe uma garagem construída após a última reforma (GarageYrBlt > YearRemodAdd), é estabelecido que esse ano maior seja o ano da última reforma\n",
    "garagem_reforma = variaveis_quanti[variaveis_quanti[\"GarageYrBlt\"] > variaveis_quanti[\"YearRemodAdd\"]].index\n",
    "for i in garagem_reforma:\n",
    "    if (variaveis_quanti.loc[i, \"GarageYrBlt\"] > variaveis_quanti.loc[i, \"YearRemodAdd\"]):\n",
    "        variaveis_quanti.loc[i, \"YearRemodAdd\"] = variaveis_quanti.loc[i, \"GarageYrBlt\"]\n",
    "\n",
    "# MasVnrArea com NaN são todas observações em que MasVnrType é igual a \"None\", então, inexistente, logo, área igual a zero\n",
    "variaveis_quanti[variaveis_quanti[\"MasVnrArea\"].isnull()] = variaveis_quanti[variaveis_quanti[\"MasVnrArea\"].isnull()].fillna(0)\n",
    "\n",
    "# Cria um índice das garagens com área maior que zero (para não incorrer em erro posterior)\n",
    "ind = variaveis_quanti[variaveis_quanti[\"GarageArea\"] > 0].index\n",
    "garagem_por_carro = variaveis_quanti[\"GarageCars\"][ind]/variaveis_quanti[\"GarageArea\"][ind]\n",
    "vagas = variaveis_quanti[variaveis_quanti[\"GarageCars\"].isnull()].index #apenas uma garagem possui área e não possui registro de quantidade de vagas\n",
    "vaga_faltante = variaveis_quanti[variaveis_quanti[\"GarageCars\"].isnull()][\"GarageArea\"] * garagem_por_carro.mean() # obtenção do valor referente à quantidade de vagas da garagem\n",
    "variaveis_quanti[\"GarageCars\"][vagas] = vaga_faltante # imputação do valor\n",
    "\n",
    "# BsmtHalfBath, valores NaN pois não existem porões, imputado zero.\n",
    "variaveis_quanti[variaveis_quanti[\"BsmtHalfBath\"].isnull()] = variaveis_quanti[variaveis_quanti[\"BsmtHalfBath\"].isnull()].fillna(0)\n",
    "\n",
    "\n",
    "# Imputação das observaçẽos LotFrontage\n",
    "frontage = variaveis_quanti[\"LotFrontage\"].sum()/len(variaveis_quanti[variaveis_quanti[\"LotFrontage\"] > 0])\n",
    "\n",
    "# Cria um DataFrame com as frentes estimadas (de todas observações)\n",
    "frente_estimada_geral = pd.DataFrame(variaveis_quanti[\"LotArea\"]/frontage)\n",
    "\n",
    "# Preenchendo os NaN de LotFrontage com zeros\n",
    "filtro = variaveis_quanti[\"LotFrontage\"].isnull()\n",
    "variaveis_quanti[\"LotFrontage\"][filtro] = 0\n",
    "\n",
    "# Separa-se apenas as observações LotFrontage a preencher (valores zerados)\n",
    "sem_frente = variaveis_quanti[variaveis_quanti[\"LotFrontage\"] == 0].index\n",
    "for i in sem_frente:\n",
    "    variaveis_quanti.loc[i, \"LotFrontage\"] = frente_estimada_geral.loc[i, \"LotArea\"]"
   ]
  },
  {
   "cell_type": "code",
   "execution_count": null,
   "metadata": {},
   "outputs": [],
   "source": []
  },
  {
   "cell_type": "markdown",
   "metadata": {},
   "source": [
    "## Feature Engeneering"
   ]
  },
  {
   "cell_type": "markdown",
   "metadata": {},
   "source": [
    "    Idade do Imóvel (no momento da venda)\n",
    "Adicionada uma variável quantitativa referente à idade da casa no ano registrado de venda, levado em consideração eventual reforma existente no ínterim."
   ]
  },
  {
   "cell_type": "code",
   "execution_count": 12,
   "metadata": {},
   "outputs": [],
   "source": [
    "# Atribução de uma nova variável \"IdadeCasa\", correspondente ao ano de fabricação menos o ano de venda, abatendo também anos em função de reforma\n",
    "\n",
    "ganho_reforma = 0.3 # aqui o ganho é inverso: '0' indica 100% de ganho, '1' indica 0% de ganho em reforma\n",
    "casa_reformada = (variaveis_quanti[\"YearRemodAdd\"] - variaveis_quanti[\"YearBuilt\"]) * (1 - ganho_reforma)\n",
    "idade_casa = variaveis_quanti[\"YrSold\"] - variaveis_quanti[\"YearBuilt\"] - casa_reformada\n",
    "variaveis_quanti[\"IdadeCasa\"] = idade_casa"
   ]
  },
  {
   "cell_type": "markdown",
   "metadata": {},
   "source": [
    "    MoSold (mês de venda)\n",
    "Esta é uma variável categórica que foi enquadrada como numérica. Revertendo."
   ]
  },
  {
   "cell_type": "code",
   "execution_count": 13,
   "metadata": {},
   "outputs": [],
   "source": [
    "variaveis_quali[\"MoSold\"] = variaveis_quanti[\"MoSold\"]\n",
    "variaveis_quali[\"MoSold\"] = variaveis_quali[\"MoSold\"].astype(object)\n",
    "variaveis_quanti = variaveis_quanti.drop(\"MoSold\", axis = 1)"
   ]
  },
  {
   "cell_type": "markdown",
   "metadata": {},
   "source": [
    "    MSSubClass\n",
    "Esta é uma variável categórica que foi enquadrada como numérica. Revertendo."
   ]
  },
  {
   "cell_type": "code",
   "execution_count": 14,
   "metadata": {},
   "outputs": [],
   "source": [
    "variaveis_quali[\"MSSubClass\"] = variaveis_quanti[\"MSSubClass\"]\n",
    "variaveis_quali[\"MSSubClass\"] = variaveis_quali[\"MSSubClass\"].astype(object)\n",
    "variaveis_quanti = variaveis_quanti.drop(\"MSSubClass\", axis = 1)"
   ]
  },
  {
   "cell_type": "markdown",
   "metadata": {},
   "source": [
    "    YrSold (ano de venda)\n",
    "Foi usada para definir a idade da casa anteriormente. A variável possui uma amplitide de apenas 4 anos (2006-2010), como a idade já está estabelecida agora transforma-se essa variável em categórica (crise de 2008 deve impactar)."
   ]
  },
  {
   "cell_type": "code",
   "execution_count": 15,
   "metadata": {},
   "outputs": [],
   "source": [
    "variaveis_quali[\"YrSold\"] = variaveis_quanti[\"YrSold\"]\n",
    "variaveis_quali[\"YrSold\"] = variaveis_quali[\"YrSold\"].astype(object)\n",
    "variaveis_quanti = variaveis_quanti.drop(\"YrSold\", axis = 1)"
   ]
  },
  {
   "cell_type": "markdown",
   "metadata": {},
   "source": [
    "    Porão\n",
    "TotalBsmtSF é a soma das outras três variáveis, \"BsmtFinSF1\", \"BsmtFinSF2\" e \"BsmtUnfSF\".\n",
    "\n",
    "Criação da variável \"PoraoUtil\", contabilizando apenas a área finalizada (útil) do porão, descartando-se as demais medidas de área do porão."
   ]
  },
  {
   "cell_type": "code",
   "execution_count": 16,
   "metadata": {},
   "outputs": [],
   "source": [
    "porao_util = variaveis_quanti[\"TotalBsmtSF\"] - variaveis_quanti[\"BsmtUnfSF\"]\n",
    "variaveis_quanti[\"PoraoUtil\"] = porao_util\n",
    "variaveis_quanti = variaveis_quanti.drop(\"BsmtFinSF1\", axis = 1)\n",
    "variaveis_quanti = variaveis_quanti.drop(\"BsmtFinSF2\", axis = 1)\n",
    "variaveis_quanti = variaveis_quanti.drop(\"BsmtUnfSF\", axis = 1)\n",
    "variaveis_quanti = variaveis_quanti.drop(\"TotalBsmtSF\", axis = 1)"
   ]
  },
  {
   "cell_type": "markdown",
   "metadata": {},
   "source": [
    "\tArea Construída (total)\n",
    "\n",
    "- GrLivArea: 1stFlrSF + 2ndFlrSF + LowQualFinSF\n",
    "\n",
    "Variáveis criadas:\n",
    "- AndaresProntos = 1stFlrSF + 2ndFlrSF (informa apenas a parte propriamente habitável dos andares)\n",
    "- TerrenoLivre = LotArea - 1stFlrSF (área total do terreno menos a área da casa, desconsiderando-se áreas de lazer - piscina, deck ou varanda)\n",
    "- AreaCasaTotal = AndaresProntos + porão pronto"
   ]
  },
  {
   "cell_type": "code",
   "execution_count": 17,
   "metadata": {},
   "outputs": [],
   "source": [
    "andares_prontos = variaveis_quanti[\"2ndFlrSF\"] + variaveis_quanti[\"1stFlrSF\"]\n",
    "area_livre_terreno = variaveis_quanti[\"LotArea\"] - variaveis_quanti[\"1stFlrSF\"]\n",
    "area_casa_total = andares_prontos + porao_util\n",
    "variaveis_quanti[\"AndaresProntos\"] = andares_prontos\n",
    "variaveis_quanti[\"TerrenoLivre\"] = area_livre_terreno\n",
    "variaveis_quanti[\"AreaCasaTotal\"] = area_casa_total"
   ]
  },
  {
   "cell_type": "markdown",
   "metadata": {},
   "source": [
    "    Área de Lazer\n",
    "Criada uma nova variável contemplando o total da área de lazer disponível, somando-se as áreas das variáveis \"WoodDeckSF\", \"OpenPorchSF\", \"EnclosedPorch\", \n",
    "\"3SsnPorch\", \"ScreenPorch\" e \"PoolArea\"."
   ]
  },
  {
   "cell_type": "code",
   "execution_count": 18,
   "metadata": {},
   "outputs": [],
   "source": [
    "variaveis_quanti[\"AreaLazerTotal\"] =  variaveis_quanti[\"WoodDeckSF\"] + variaveis_quanti[\"OpenPorchSF\"] + \\\n",
    "                                    variaveis_quanti[\"EnclosedPorch\"] + variaveis_quanti[\"3SsnPorch\"] + \\\n",
    "                                    variaveis_quanti[\"ScreenPorch\"] + variaveis_quanti[\"PoolArea\"]"
   ]
  },
  {
   "cell_type": "markdown",
   "metadata": {},
   "source": [
    "Criação das variaveis deck, varanda e piscina"
   ]
  },
  {
   "cell_type": "code",
   "execution_count": 19,
   "metadata": {},
   "outputs": [],
   "source": [
    "# Deck\n",
    "deck = {\"foo\"}\n",
    "deck = pd.DataFrame(deck)\n",
    "\n",
    "for i in variaveis_quanti[\"WoodDeckSF\"]:\n",
    "    if i == 0: deck.loc[len(deck)] = \"None\"\n",
    "    else: deck.loc[len(deck)] = \"Yes\"\n",
    "\n",
    "deck = deck.iloc[1:]\n",
    "deck.reset_index(inplace=True)\n",
    "deck = deck.drop(\"index\", axis = 1)\n",
    "\n",
    "# Varanda\n",
    "porch = variaveis_quanti[\"OpenPorchSF\"] + variaveis_quanti[\"EnclosedPorch\"] + variaveis_quanti[\"3SsnPorch\"] + variaveis_quanti[\"ScreenPorch\"]\n",
    "varanda = {\"foo\"}\n",
    "varanda = pd.DataFrame(varanda)\n",
    "\n",
    "for i in porch:\n",
    "    if i == 0: varanda.loc[len(varanda)] = \"None\"\n",
    "    else: varanda.loc[len(varanda)] = \"Yes\"\n",
    "\n",
    "varanda = varanda.iloc[1:]\n",
    "varanda.reset_index(inplace=True)\n",
    "varanda = varanda.drop(\"index\", axis = 1)\n",
    "\n",
    "# Piscina\n",
    "piscina = {\"foo\"}\n",
    "piscina = pd.DataFrame(piscina)\n",
    "\n",
    "for i in variaveis_quanti[\"PoolArea\"]:\n",
    "    if i == 0: piscina.loc[len(piscina)] = \"None\"\n",
    "    else: piscina.loc[len(piscina)] = \"Yes\"\n",
    "\n",
    "piscina = piscina.iloc[1:]\n",
    "piscina.reset_index(inplace=True)\n",
    "piscina = piscina.drop(\"index\", axis = 1)"
   ]
  },
  {
   "cell_type": "markdown",
   "metadata": {},
   "source": [
    "Atribuição das áreas de lazer independentes como categorias, eliminando as variáveis numéricas originais. Mantive apenas a variável PoolArea, pois piscinas maiores ou menores impactam significativamente na estrutura de custos da casa, sendo descontado no valor."
   ]
  },
  {
   "cell_type": "code",
   "execution_count": 20,
   "metadata": {},
   "outputs": [],
   "source": [
    "variaveis_quali[\"Piscina\"] = piscina\n",
    "variaveis_quali[\"Varanda\"] = varanda\n",
    "variaveis_quali[\"Deck\"] = deck\n",
    "variaveis_quanti = variaveis_quanti.drop(\"WoodDeckSF\", axis = 1)\n",
    "variaveis_quanti = variaveis_quanti.drop(\"OpenPorchSF\", axis = 1)\n",
    "variaveis_quanti = variaveis_quanti.drop(\"EnclosedPorch\", axis = 1)\n",
    "variaveis_quanti = variaveis_quanti.drop(\"3SsnPorch\", axis = 1)\n",
    "variaveis_quanti = variaveis_quanti.drop(\"ScreenPorch\", axis = 1)"
   ]
  },
  {
   "cell_type": "markdown",
   "metadata": {},
   "source": [
    "    Banheiros\n",
    "Divisão entre total dos banheiros da casa e total dos banheiros do porão."
   ]
  },
  {
   "cell_type": "code",
   "execution_count": 21,
   "metadata": {},
   "outputs": [],
   "source": [
    "banheiros_casa = variaveis_quanti[\"FullBath\"] + variaveis_quanti[\"HalfBath\"]\n",
    "banheiros_porao = variaveis_quanti[\"BsmtFullBath\"] + variaveis_quanti[\"BsmtHalfBath\"]\n",
    "variaveis_quanti[\"BanheirosCasa\"] = banheiros_casa\n",
    "variaveis_quanti[\"BanheirosPorao\"] = banheiros_porao\n",
    "variaveis_quanti = variaveis_quanti.drop(\"BsmtFullBath\", axis = 1)\n",
    "variaveis_quanti = variaveis_quanti.drop(\"BsmtHalfBath\", axis = 1)\n",
    "variaveis_quanti = variaveis_quanti.drop(\"FullBath\", axis = 1)\n",
    "variaveis_quanti = variaveis_quanti.drop(\"HalfBath\", axis = 1)"
   ]
  },
  {
   "cell_type": "markdown",
   "metadata": {},
   "source": [
    "    Demais variáveis já utilizadas, descarte\n",
    "\n",
    "Algumas variáveis foram utilizadas para a criação de outras características e acabaram não sendo desconsideradas no momento oportuno. Realizando a filtragem desses dados abaixo."
   ]
  },
  {
   "cell_type": "code",
   "execution_count": 22,
   "metadata": {},
   "outputs": [],
   "source": [
    "variaveis_quanti = variaveis_quanti.drop(\"YearBuilt\", axis = 1)\n",
    "variaveis_quanti = variaveis_quanti.drop(\"YearRemodAdd\", axis = 1)\n",
    "variaveis_quanti = variaveis_quanti.drop(\"1stFlrSF\", axis = 1)\n",
    "variaveis_quanti = variaveis_quanti.drop(\"2ndFlrSF\", axis = 1)\n",
    "variaveis_quanti = variaveis_quanti.drop(\"LowQualFinSF\", axis = 1)\n",
    "variaveis_quanti = variaveis_quanti.drop(\"GarageYrBlt\", axis = 1)"
   ]
  },
  {
   "cell_type": "markdown",
   "metadata": {},
   "source": [
    "    Outliers\n",
    "Verificação de algumas variáveis numéricas com possível existência de outliers.\n",
    "\n",
    "A primeira que saltou aos olhos foi a variável \"LotFrontage\", testando trabalhar sem as observações contendo os outliers desta variável, através de método IQR"
   ]
  },
  {
   "cell_type": "code",
   "execution_count": 23,
   "metadata": {},
   "outputs": [
    {
     "data": {
      "text/plain": [
       "'\\n###\\n# Outliers variável \"LotArea\"\\n###\\nq1_lotarea = np.percentile(variaveis_quanti[\"LotArea\"], 25)\\nq3_lotarea = np.percentile(variaveis_quanti[\"LotArea\"], 75)\\niqr_lotarea = q3_lotarea - q1_lotarea\\noutliers_lotarea_up = q3_lotarea + 1.5 * iqr_lotarea\\noutliers_lotarea_low = q1_lotarea - 1.5 * iqr_lotarea\\n\\napagar_lotarea_up = variaveis_quanti[variaveis_quanti[\"LotArea\"] >= outliers_lotarea_up].index\\nvariaveis_quanti = variaveis_quanti.drop(apagar_lotarea_up, axis = 0)\\nvariaveis_quali = variaveis_quali.drop(apagar_lotarea_up, axis = 0)\\n\\napagar_lotarea_low = variaveis_quanti[variaveis_quanti[\"LotArea\"] <= outliers_lotarea_low].index\\nvariaveis_quanti = variaveis_quanti.drop(apagar_lotarea_low, axis = 0)\\nvariaveis_quanti.reset_index(inplace = True)\\nvariaveis_quali = variaveis_quali.drop(apagar_lotarea_low, axis = 0)\\nvariaveis_quali.reset_index(inplace = True)\\nvariaveis_quanti = variaveis_quanti.drop(\"index\", axis = 1)\\nvariaveis_quali = variaveis_quali.drop(\"index\", axis = 1)\\n'"
      ]
     },
     "execution_count": 23,
     "metadata": {},
     "output_type": "execute_result"
    }
   ],
   "source": [
    "#variaveis_outliers = variaveis_quanti[[\"LotFrontage\", \"LotArea\", \"PoraoUtil\", \"TerrenoLivre\", \"AreaCasaTotal\", \"AreaLazerTotal\"]]\n",
    "\n",
    "variaveis_quanti_teste = variaveis_quanti.copy()\n",
    "variaveis_quali_backup = variaveis_quali.copy()\n",
    "\n",
    "###\n",
    "# Outliers variável \"LotFrontage\"\n",
    "###\n",
    "q1_lotfrontage = np.percentile(variaveis_quanti[\"LotFrontage\"], 25)\n",
    "q3_lotfrontage = np.percentile(variaveis_quanti[\"LotFrontage\"], 75)\n",
    "iqr_lotfrontage = q3_lotfrontage - q1_lotfrontage\n",
    "outliers_lotfrontage_up = q3_lotfrontage + 1.5 * iqr_lotfrontage\n",
    "outliers_lotfrontage_low = q1_lotfrontage - 1.5 * iqr_lotfrontage\n",
    "\n",
    "apagar = variaveis_quanti[variaveis_quanti[\"LotFrontage\"] >= outliers_lotfrontage_up].index\n",
    "variaveis_quanti = variaveis_quanti.drop(apagar, axis = 0)\n",
    "variaveis_quali = variaveis_quali.drop(apagar, axis = 0)\n",
    "variaveis_quanti.reset_index(inplace = True)\n",
    "variaveis_quali.reset_index(inplace = True)\n",
    "variaveis_quanti = variaveis_quanti.drop(\"index\", axis = 1)\n",
    "variaveis_quali = variaveis_quali.drop(\"index\", axis = 1)\n",
    "\n",
    "\n",
    "###\n",
    "# Outliers variável \"TerrenoLivre\" - com este e o \"LotArea\" os dados acabam ficando com bem menos outliers no geral.\n",
    "###\n",
    "q1_terrenolivre = np.percentile(variaveis_quanti[\"TerrenoLivre\"], 25)\n",
    "q3_terrenolivre = np.percentile(variaveis_quanti[\"TerrenoLivre\"], 75)\n",
    "iqr_terrenolivre = q3_terrenolivre - q1_terrenolivre\n",
    "outliers_terrenolivre_up = q3_terrenolivre + 1.5 * iqr_terrenolivre\n",
    "outliers_terrenolivre_low = q1_terrenolivre - 1.5 * iqr_terrenolivre\n",
    "\n",
    "apagar_terrenolivre_up = variaveis_quanti[variaveis_quanti[\"TerrenoLivre\"] >= outliers_terrenolivre_up].index\n",
    "variaveis_quanti = variaveis_quanti.drop(apagar_terrenolivre_up, axis = 0)\n",
    "variaveis_quali = variaveis_quali.drop(apagar_terrenolivre_up, axis = 0)\n",
    "\n",
    "apagar_terrenolivre_low = variaveis_quanti[variaveis_quanti[\"TerrenoLivre\"] <= outliers_terrenolivre_low].index\n",
    "variaveis_quanti = variaveis_quanti.drop(apagar_terrenolivre_low, axis = 0)\n",
    "variaveis_quali = variaveis_quali.drop(apagar_terrenolivre_low, axis = 0)\n",
    "\n",
    "variaveis_quali.reset_index(inplace = True)\n",
    "variaveis_quanti.reset_index(inplace = True)\n",
    "variaveis_quanti = variaveis_quanti.drop(\"index\", axis = 1)\n",
    "variaveis_quali = variaveis_quali.drop(\"index\", axis = 1)\n",
    "\n",
    "\n",
    "\"\"\"\n",
    "###\n",
    "# Outliers variável \"LotArea\"\n",
    "###\n",
    "q1_lotarea = np.percentile(variaveis_quanti[\"LotArea\"], 25)\n",
    "q3_lotarea = np.percentile(variaveis_quanti[\"LotArea\"], 75)\n",
    "iqr_lotarea = q3_lotarea - q1_lotarea\n",
    "outliers_lotarea_up = q3_lotarea + 1.5 * iqr_lotarea\n",
    "outliers_lotarea_low = q1_lotarea - 1.5 * iqr_lotarea\n",
    "\n",
    "apagar_lotarea_up = variaveis_quanti[variaveis_quanti[\"LotArea\"] >= outliers_lotarea_up].index\n",
    "variaveis_quanti = variaveis_quanti.drop(apagar_lotarea_up, axis = 0)\n",
    "variaveis_quali = variaveis_quali.drop(apagar_lotarea_up, axis = 0)\n",
    "\n",
    "apagar_lotarea_low = variaveis_quanti[variaveis_quanti[\"LotArea\"] <= outliers_lotarea_low].index\n",
    "variaveis_quanti = variaveis_quanti.drop(apagar_lotarea_low, axis = 0)\n",
    "variaveis_quanti.reset_index(inplace = True)\n",
    "variaveis_quali = variaveis_quali.drop(apagar_lotarea_low, axis = 0)\n",
    "variaveis_quali.reset_index(inplace = True)\n",
    "variaveis_quanti = variaveis_quanti.drop(\"index\", axis = 1)\n",
    "variaveis_quali = variaveis_quali.drop(\"index\", axis = 1)\n",
    "\"\"\""
   ]
  },
  {
   "cell_type": "markdown",
   "metadata": {},
   "source": [
    "## Modelagem"
   ]
  },
  {
   "cell_type": "markdown",
   "metadata": {},
   "source": [
    "### Bibliotecas necessárias"
   ]
  },
  {
   "cell_type": "code",
   "execution_count": 24,
   "metadata": {},
   "outputs": [],
   "source": [
    "import matplotlib.pyplot as plt\n",
    "from sklearn.preprocessing import StandardScaler # normalização por z-score\n",
    "from sklearn.preprocessing import FunctionTransformer # normalização por log\n",
    "from sklearn.preprocessing import MinMaxScaler # normalização Min-Max\n",
    "\n",
    "from sklearn.model_selection import train_test_split # separação de grupo treino e teste\n",
    "from sklearn import tree # biblioteca para modelagem através de decision tree (árvore de decisão)\n",
    "from sklearn.neighbors import KNeighborsRegressor # biblioteca para modelagem através de KNN\n",
    "from sklearn.ensemble import GradientBoostingRegressor # biblioteca para modelagem com Gradient Boost\n",
    "from sklearn.linear_model import LinearRegression # biblioteca para modelagem através de regressão Linear Simples\n",
    "from sklearn.linear_model import Ridge # biblioteca para modelagem com Ridge\n",
    "from sklearn import linear_model # biblioteca para modelagem com Bayesian Ridge"
   ]
  },
  {
   "cell_type": "markdown",
   "metadata": {},
   "source": [
    "#### Documentação"
   ]
  },
  {
   "cell_type": "markdown",
   "metadata": {},
   "source": [
    "Linear Regression (Regressão Linear)\n",
    "https://scikit-learn.org/stable/modules/generated/sklearn.linear_model.LinearRegression.html#sklearn.linear_model.LinearRegression\n",
    "\n",
    "Decision Tree (Árvore de Decisão)\n",
    "https://scikit-learn.org/stable/modules/tree.html#regression\n",
    "\n",
    "KNN - K Nearest Neighbors (Vizinhança Próxima)\n",
    "https://scikit-learn.org/stable/modules/generated/sklearn.neighbors.KNeighborsRegressor.html\n",
    "\n",
    "Gradient Boost Regressor\n",
    "https://scikit-learn.org/stable/modules/generated/sklearn.ensemble.GradientBoostingRegressor.html#sklearn.ensemble.GradientBoostingRegressor\n",
    "\n",
    "Ridge\n",
    "https://scikit-learn.org/stable/modules/generated/sklearn.linear_model.Ridge.html#sklearn.linear_model.Ridge\n",
    "\n",
    "Bayesian Ridge Regression\n",
    "https://scikit-learn.org/stable/modules/generated/sklearn.linear_model.BayesianRidge.html#sklearn.linear_model.BayesianRidge"
   ]
  },
  {
   "cell_type": "markdown",
   "metadata": {},
   "source": [
    "### Separação entre treino e teste, dummies"
   ]
  },
  {
   "cell_type": "code",
   "execution_count": 25,
   "metadata": {},
   "outputs": [
    {
     "name": "stderr",
     "output_type": "stream",
     "text": [
      "/tmp/ipykernel_145924/3166758211.py:4: FutureWarning: In a future version, the Index constructor will not infer numeric dtypes when passed object-dtype sequences (matching Series behavior)\n",
      "  quali_dummies = pd.get_dummies(quali_dummies)\n",
      "/tmp/ipykernel_145924/3166758211.py:4: FutureWarning: In a future version, the Index constructor will not infer numeric dtypes when passed object-dtype sequences (matching Series behavior)\n",
      "  quali_dummies = pd.get_dummies(quali_dummies)\n",
      "/tmp/ipykernel_145924/3166758211.py:4: FutureWarning: In a future version, the Index constructor will not infer numeric dtypes when passed object-dtype sequences (matching Series behavior)\n",
      "  quali_dummies = pd.get_dummies(quali_dummies)\n"
     ]
    }
   ],
   "source": [
    "# GERANDO DUMMIES DAS VARIAVEIS QUALI\n",
    "variaveis_quali_sem_dummies = variaveis_quali.copy()\n",
    "quali_dummies = variaveis_quali_sem_dummies.drop(\"Origem\", axis = 1)\n",
    "quali_dummies = pd.get_dummies(quali_dummies)\n",
    "\n",
    "# Armazenando os dados processados antes da modelagem\n",
    "dummies_aqui = quali_dummies.copy()\n",
    "quanti_sem_dummies = variaveis_quanti.copy()\n",
    "quanti_com_dummies = pd.concat([quanti_sem_dummies, dummies_aqui], axis = \"columns\")\n",
    "quanti_com_dummies_backup = quanti_com_dummies.copy()\n",
    "\n",
    "# SEPARAÇÃO ENTRE TREINO E TESTE\n",
    "dados_polidos = variaveis_quanti[variaveis_quanti[\"Origem\"] == \"Treino\"]\n",
    "dados_polidos = dados_polidos.drop(\"Origem\", axis = 1)\n",
    "\n",
    "dados_teste = variaveis_quanti_teste[variaveis_quanti_teste[\"Origem\"] == \"Teste\"]\n",
    "dados_teste = dados_teste.drop(\"Origem\", axis = 1)\n",
    "dados_teste = dados_teste.drop(\"SalePrice\", axis = 1)\n",
    "\n",
    "# Definição das variáveis independente e dependente\n",
    "dados_polidos_x = dados_polidos.drop(\"SalePrice\", axis = 1)\n",
    "dados_polidos_y = dados_polidos.SalePrice\n",
    "\n",
    "# Separação entre observações para treino e teste\n",
    "treino_x, teste_x, treino_y, teste_y = train_test_split(dados_polidos_x, dados_polidos_y, test_size = 0.2, random_state = 1)\n",
    "\n",
    "treino_x.reset_index(inplace=True)\n",
    "treino_x = treino_x.drop(\"index\", axis = 1)\n",
    "teste_x.reset_index(inplace=True)\n",
    "teste_x = teste_x.drop(\"index\", axis = 1)\n",
    "\n",
    "# Índices de coleta das observações separadss (teste/treino) para a correta inserções das respectivas dummies\n",
    "treino_x_dummies = quali_dummies.iloc[treino_x.index]\n",
    "treino_x_dummies.reset_index(inplace=True)\n",
    "treino_x_dummies = treino_x_dummies.drop(\"index\", axis = 1)\n",
    "\n",
    "teste_x_dummies = quali_dummies.iloc[teste_x.index]\n",
    "teste_x_dummies.reset_index(inplace=True)\n",
    "teste_x_dummies = teste_x_dummies.drop(\"index\", axis = 1)\n"
   ]
  },
  {
   "cell_type": "markdown",
   "metadata": {},
   "source": [
    "### Modelagem sem normalização"
   ]
  },
  {
   "cell_type": "code",
   "execution_count": 40,
   "metadata": {},
   "outputs": [],
   "source": [
    "# Incluindo as dummies (não-normalizadas)\n",
    "x_sn = pd.concat([pd.DataFrame(treino_x), treino_x_dummies], axis=\"columns\")\n",
    "x_sn.columns = range(len(x_sn.columns))\n",
    "\n",
    "x_teste_sn = pd.concat([pd.DataFrame(teste_x), teste_x_dummies], axis=\"columns\")\n",
    "x_teste_sn.columns = range(len(x_teste_sn.columns))\n",
    "\n",
    "###\n",
    "# Estimação dos modelos\n",
    "###\n",
    "\n",
    "# Regressão Linear Simples (Linear Regression)\n",
    "sn_rl = LinearRegression().fit(x_sn, treino_y)\n",
    "y_rl = sn_rl.predict(x_teste_sn)\n",
    "\n",
    "# Árvore de Decisão (decision tree)\n",
    "sn_tree = tree.DecisionTreeRegressor(random_state = 1).fit(x_sn, treino_y)\n",
    "y_tree = sn_tree.predict(x_teste_sn)\n",
    "\n",
    "# (K Vizinhos Mais Próximos - KNN (K Nearest Neighbors))\n",
    "sn_knn = KNeighborsRegressor(n_neighbors = 2, weights = \"uniform\").fit(x_sn, treino_y)\n",
    "y_knn_uniform = sn_knn.predict(x_teste_sn)\n",
    "\n",
    "sn_knn_d = KNeighborsRegressor(n_neighbors = 2, weights = \"distance\").fit(x_sn, treino_y)\n",
    "y_knn_distance = sn_knn_d.predict(x_teste_sn)\n",
    "\n",
    "# Gradient Boost Regressor\n",
    "sn_gbr = GradientBoostingRegressor(random_state = 1).fit(x_sn, treino_y)\n",
    "y_gbr = sn_gbr.predict(x_teste_sn)\n",
    "\n",
    "# Ridge\n",
    "sn_ridge = Ridge(alpha = 1.0).fit(x_sn, treino_y)\n",
    "y_ridge = sn_ridge.predict(x_teste_sn)\n",
    "\n",
    "# Bayesian Ridge Regression\n",
    "sn_brr = linear_model.BayesianRidge().fit(x_sn, treino_y)\n",
    "y_brr = sn_brr.predict(x_teste_sn)"
   ]
  },
  {
   "cell_type": "markdown",
   "metadata": {},
   "source": [
    "    Sobre Normalização\n",
    "Será utilizado apenas um método de normalização para todas as variáveis que serão utilizadas na modelagem de ML, uma vez que vários algoritmos de ML podem ter dificuldades em interpretar valores com escalas (normalizações) diferentes. Serão realizados testes com três metodologias de normalização diferentes, a saber:\n",
    "- Min-max\n",
    "- Z-score\n",
    "- Log\n",
    "\n",
    "Informações disponíveis em https://www.turing.com/kb/data-normalization-with-python-scikit-learn-tips-tricks-for-data-science"
   ]
  },
  {
   "cell_type": "markdown",
   "metadata": {},
   "source": [
    "#### Exemplos:"
   ]
  },
  {
   "cell_type": "markdown",
   "metadata": {},
   "source": [
    "    MiscVal\n",
    "Valores de coisas diversas que acompanham a casa. Como os valores são assimétricos (cauda à esquerda), é necessário passar por normalização."
   ]
  },
  {
   "cell_type": "code",
   "execution_count": 27,
   "metadata": {},
   "outputs": [
    {
     "data": {
      "image/png": "[encoded data removed]",
      "text/plain": [
       "<Figure size 640x480 with 1 Axes>"
      ]
     },
     "metadata": {},
     "output_type": "display_data"
    },
    {
     "name": "stdout",
     "output_type": "stream",
     "text": [
      "count       76.000000\n",
      "mean      1162.776316\n",
      "std       1723.077399\n",
      "min         54.000000\n",
      "25%        415.000000\n",
      "50%        550.000000\n",
      "75%       1200.000000\n",
      "max      12500.000000\n",
      "Name: MiscVal, dtype: float64\n"
     ]
    }
   ],
   "source": [
    "valores_miscval = variaveis_quanti[variaveis_quanti[\"MiscVal\"] > 0][\"MiscVal\"]\n",
    "#valores_miscval = valores_miscval.sort_values() # basta descomentar essa linha para gráfico com valores assimétricos\n",
    "indice = variaveis_quanti[variaveis_quanti[\"MiscVal\"] > 0][\"MiscVal\"].index \n",
    "                           \n",
    "plt.title(\"Gráfico das observações 'MiscVal'\")\n",
    "plt.xlabel(\"Observações\")\n",
    "plt.ylabel(\"Valor dos extras\")\n",
    "plt.bar(indice, valores_miscval, width = 25)\n",
    "plt.show()\n",
    "\n",
    "print(variaveis_quanti[variaveis_quanti[\"MiscVal\"] > 0][\"MiscVal\"].describe())"
   ]
  },
  {
   "cell_type": "markdown",
   "metadata": {},
   "source": [
    "    SellPrice\n",
    "Valores de venda, assimétricos. Necessário normalização."
   ]
  },
  {
   "cell_type": "code",
   "execution_count": 28,
   "metadata": {},
   "outputs": [
    {
     "data": {
      "image/png": "[encoded data removed]",
      "text/plain": [
       "<Figure size 640x480 with 1 Axes>"
      ]
     },
     "metadata": {},
     "output_type": "display_data"
    },
    {
     "name": "stdout",
     "output_type": "stream",
     "text": [
      "count      1460.000000\n",
      "mean     180921.195890\n",
      "std       79442.502883\n",
      "min       34900.000000\n",
      "25%      129975.000000\n",
      "50%      163000.000000\n",
      "75%      214000.000000\n",
      "max      755000.000000\n",
      "Name: SalePrice, dtype: float64\n"
     ]
    }
   ],
   "source": [
    "valores_venda = dados_brutos[dados_brutos[\"Origem\"] == \"Treino\"][\"SalePrice\"]\n",
    "#valores_venda = valores_venda.sort_values() # basta descomentar essa linha para gráfico com valores assimétricos\n",
    "indice = dados_brutos[dados_brutos[\"Origem\"] == \"Treino\"][\"SalePrice\"].index\n",
    "\n",
    "plt.title(\"Gráfico dos valores de venda\")\n",
    "plt.xlabel(\"Observações\")\n",
    "plt.ylabel(\"SalePrice\")\n",
    "plt.bar(indice, valores_venda, width = 15)\n",
    "plt.show()\n",
    "\n",
    "print(dados_brutos[dados_brutos[\"Origem\"] == \"Treino\"][\"SalePrice\"].describe())"
   ]
  },
  {
   "cell_type": "markdown",
   "metadata": {},
   "source": [
    "### Modelagem com normalização Min-Max"
   ]
  },
  {
   "cell_type": "code",
   "execution_count": 29,
   "metadata": {},
   "outputs": [],
   "source": [
    "# Normalizando os dados\n",
    "minmax_scaler = MinMaxScaler()\n",
    "x_minmax = minmax_scaler.fit_transform(treino_x)\n",
    "\n",
    "# Normalizando o target\n",
    "minmax_target_scaler = MinMaxScaler()\n",
    "y_minmax = minmax_target_scaler.fit_transform(pd.DataFrame(treino_y))\n",
    "\n",
    "# Normalizando os testes\n",
    "minmax_scaler = MinMaxScaler()\n",
    "x_teste_minmax = minmax_scaler.fit_transform(teste_x)\n",
    "\n",
    "minmax_target_scaler = MinMaxScaler()\n",
    "y_teste_minmax = minmax_target_scaler.fit_transform(pd.DataFrame(teste_y))\n",
    "\n",
    "# Incluindo as dummies (não-normalizadas)\n",
    "x_minmax = pd.concat([pd.DataFrame(x_minmax), treino_x_dummies], axis=\"columns\")\n",
    "x_minmax.columns = range(len(x_minmax.columns))\n",
    "\n",
    "x_teste_minmax = pd.concat([pd.DataFrame(x_teste_minmax), teste_x_dummies], axis=\"columns\")\n",
    "x_teste_minmax.columns = range(len(x_teste_minmax.columns))\n",
    "\n",
    "#####\n",
    "## Treinando os modelos\n",
    "#####\n",
    "\n",
    "# Gradient Boost Regressor\n",
    "minmax_gbr = GradientBoostingRegressor(random_state = 1).fit(x_minmax, y_minmax.ravel())\n",
    "y_minmax_gbr = minmax_gbr.predict(x_teste_minmax)\n",
    "y_pred_minmax_gbr = minmax_target_scaler.inverse_transform(y_minmax_gbr.reshape(-1, 1))\n",
    "\n",
    "# Ridge\n",
    "minmax_ridge = Ridge(alpha = 1.0).fit(x_minmax, y_minmax.ravel())\n",
    "y_minmax_ridge = minmax_ridge.predict(x_teste_minmax)\n",
    "y_pred_minmax_ridge = minmax_target_scaler.inverse_transform(y_minmax_ridge.reshape(-1, 1))\n",
    "\n",
    "# Bayesian Ridge Regression\n",
    "minmax_brr = linear_model.BayesianRidge().fit(x_minmax, y_minmax.ravel())\n",
    "y_minmax_brr = minmax_brr.predict(x_teste_minmax)\n",
    "y_pred_minmax_brr = minmax_target_scaler.inverse_transform(y_minmax_brr.reshape(-1, 1))\n",
    "\n",
    "# Regressão Linear Simples (Linear Regression)\n",
    "minmax_rl = LinearRegression().fit(x_minmax, y_minmax.ravel())\n",
    "y_minmax_rl = minmax_rl.predict(x_teste_minmax)\n",
    "y_pred_minmax_rl = minmax_target_scaler.inverse_transform(y_minmax_rl.reshape(-1, 1))\n",
    "\n",
    "# Árvore de Decisão (decision tree)\n",
    "minmax_tree = tree.DecisionTreeRegressor(random_state = 1).fit(x_minmax, y_minmax.ravel())\n",
    "y_minmax_tree = minmax_tree.predict(x_teste_minmax)\n",
    "y_pred_minmax_tree = minmax_target_scaler.inverse_transform(y_minmax_tree.reshape(-1, 1))\n",
    "\n",
    "# (K Vizinhos Mais Próximos - KNN (K Nearest Neighbors))\n",
    "minmax_knn = KNeighborsRegressor(n_neighbors = 2, weights = \"uniform\").fit(x_minmax, y_minmax.ravel())\n",
    "y_minmax_knn = minmax_knn.predict(x_teste_minmax)\n",
    "y_pred_minmax_knn_uniform = minmax_target_scaler.inverse_transform(y_minmax_knn.reshape(-1, 1))\n",
    "\n",
    "minmax_knn = KNeighborsRegressor(n_neighbors = 2, weights = \"distance\").fit(x_minmax, y_minmax.ravel())\n",
    "y_minmax_knn_d = minmax_knn.predict(x_teste_minmax)\n",
    "y_pred_minmax_knn_distance = minmax_target_scaler.inverse_transform(y_minmax_knn_d.reshape(-1, 1))"
   ]
  },
  {
   "cell_type": "markdown",
   "metadata": {},
   "source": [
    "### Modelagem com normalização Log"
   ]
  },
  {
   "cell_type": "code",
   "execution_count": 30,
   "metadata": {},
   "outputs": [
    {
     "name": "stderr",
     "output_type": "stream",
     "text": [
      "/usr/lib/python3.12/site-packages/sklearn/ensemble/_gb.py:668: DataConversionWarning: A column-vector y was passed when a 1d array was expected. Please change the shape of y to (n_samples, ), for example using ravel().\n",
      "  y = column_or_1d(y, warn=True)  # TODO: Is this still required?\n",
      "/usr/lib/python3.12/site-packages/sklearn/utils/validation.py:1310: DataConversionWarning: A column-vector y was passed when a 1d array was expected. Please change the shape of y to (n_samples, ), for example using ravel().\n",
      "  y = column_or_1d(y, warn=True)\n"
     ]
    }
   ],
   "source": [
    "# Normalizando os dados\n",
    "log_scaler = FunctionTransformer(np.log1p)\n",
    "x_log = log_scaler.fit_transform(treino_x)\n",
    "\n",
    "# Normalizando o target\n",
    "log_target_scaler = FunctionTransformer(np.log1p)\n",
    "y_log = log_target_scaler.fit_transform(pd.DataFrame(treino_y))\n",
    "\n",
    "# Normalizando os testes\n",
    "log_scaler = FunctionTransformer(np.log1p)\n",
    "x_teste_log = log_scaler.fit_transform(teste_x)\n",
    "\n",
    "log_target_scaler = FunctionTransformer(np.log1p)\n",
    "y_teste_log = log_target_scaler.fit_transform(pd.DataFrame(teste_y))\n",
    "\n",
    "\n",
    "# Incluindo as dummies (não-normalizadas)\n",
    "x_log = pd.concat([pd.DataFrame(x_log), treino_x_dummies], axis=\"columns\")\n",
    "x_log.columns = range(len(x_log.columns))\n",
    "\n",
    "x_teste_log = pd.concat([pd.DataFrame(x_teste_log), teste_x_dummies], axis=\"columns\")\n",
    "x_teste_log.columns = range(len(x_teste_log.columns))\n",
    "\n",
    "#####\n",
    "## Treinando os modelos\n",
    "#####\n",
    "\n",
    "# Gradient Boost Regressor\n",
    "log_gbr = GradientBoostingRegressor(random_state = 1).fit(x_log, y_log)\n",
    "y_log_gbr = log_gbr.predict(x_teste_log)\n",
    "y_pred_log_gbr = np.expm1(y_log_gbr)\n",
    "\n",
    "# Ridge\n",
    "log_ridge = Ridge(alpha = 1.0).fit(x_log, y_log)\n",
    "y_log_ridge = log_ridge.predict(x_teste_log)\n",
    "y_pred_log_ridge = np.expm1(y_log_ridge)\n",
    "\n",
    "# Bayesian Ridge Regression\n",
    "log_brr = linear_model.BayesianRidge().fit(x_log, y_log)\n",
    "y_log_brr = log_brr.predict(x_teste_log)\n",
    "y_pred_log_brr = np.expm1(y_log_brr)\n",
    "\n",
    "# Regressão Linear Simples (Linear Regression)\n",
    "log_rl = LinearRegression().fit(x_log, y_log)\n",
    "y_log_rl = log_rl.predict(x_teste_log)\n",
    "y_pred_log_rl = np.expm1(y_log_rl)\n",
    "\n",
    "# Árvore de Decisão (decision tree)\n",
    "log_tree = tree.DecisionTreeRegressor(random_state = 1).fit(x_log, y_log)\n",
    "y_log_tree = log_tree.predict(x_teste_log)\n",
    "y_pred_log_tree = np.expm1(y_log_tree)\n",
    "\n",
    "# (K Vizinhos Mais Próximos - KNN (K Nearest Neighbors))\n",
    "log_knn = KNeighborsRegressor(n_neighbors = 2, weights = \"uniform\").fit(x_log, y_log)\n",
    "y_log_knn = log_knn.predict(x_teste_log)\n",
    "y_pred_log_knn_uniform = np.expm1(y_log_knn)\n",
    "\n",
    "log_knn = KNeighborsRegressor(n_neighbors = 2, weights = \"distance\").fit(x_log, y_log)\n",
    "y_log_knn_d = log_knn.predict(x_teste_log)\n",
    "y_pred_log_knn_distance = np.expm1(y_log_knn_d)"
   ]
  },
  {
   "cell_type": "markdown",
   "metadata": {},
   "source": [
    "### Modelagem com normalização Z-score"
   ]
  },
  {
   "cell_type": "code",
   "execution_count": 31,
   "metadata": {},
   "outputs": [
    {
     "name": "stderr",
     "output_type": "stream",
     "text": [
      "/usr/lib/python3.12/site-packages/sklearn/ensemble/_gb.py:668: DataConversionWarning: A column-vector y was passed when a 1d array was expected. Please change the shape of y to (n_samples, ), for example using ravel().\n",
      "  y = column_or_1d(y, warn=True)  # TODO: Is this still required?\n",
      "/usr/lib/python3.12/site-packages/sklearn/utils/validation.py:1310: DataConversionWarning: A column-vector y was passed when a 1d array was expected. Please change the shape of y to (n_samples, ), for example using ravel().\n",
      "  y = column_or_1d(y, warn=True)\n"
     ]
    }
   ],
   "source": [
    "# Normalizando os dados\n",
    "zscore_scaler = StandardScaler()\n",
    "x_zscore = zscore_scaler.fit_transform(treino_x)\n",
    "\n",
    "# Normalizando o target\n",
    "zscore_target_scaler = StandardScaler()\n",
    "y_zscore = zscore_target_scaler.fit_transform(pd.DataFrame(treino_y))\n",
    "\n",
    "# Normalizando os testes\n",
    "zscore_scaler = StandardScaler()\n",
    "x_teste_zscore = zscore_scaler.fit_transform(teste_x)\n",
    "\n",
    "zscore_target_scaler = StandardScaler()\n",
    "y_teste_zscore = zscore_target_scaler.fit_transform(pd.DataFrame(teste_y))\n",
    "\n",
    "# Incluindo as dummies (não-normalizadas)\n",
    "x_zscore = pd.concat([pd.DataFrame(x_zscore), treino_x_dummies], axis=\"columns\")\n",
    "x_zscore.columns = range(len(x_log.columns))\n",
    "\n",
    "x_teste_zscore = pd.concat([pd.DataFrame(x_teste_zscore), teste_x_dummies], axis=\"columns\")\n",
    "x_teste_zscore.columns = range(len(x_teste_zscore.columns))\n",
    "\n",
    "#####\n",
    "## Treinando os modelos\n",
    "#####\n",
    "\n",
    "# Gradient Boost Regressor\n",
    "zscore_gbr = GradientBoostingRegressor(random_state = 1).fit(x_zscore, y_zscore)\n",
    "y_zscore_gbr = zscore_gbr.predict(x_teste_zscore)\n",
    "y_pred_zscore_gbr = zscore_target_scaler.inverse_transform(y_zscore_gbr.reshape(-1, 1))\n",
    "\n",
    "# Ridge\n",
    "zscore_ridge = Ridge(alpha = 1.0).fit(x_zscore, y_zscore)\n",
    "y_zscore_ridge = zscore_ridge.predict(x_teste_zscore)\n",
    "y_pred_zscore_ridge = zscore_target_scaler.inverse_transform(y_zscore_ridge.reshape(-1, 1))\n",
    "\n",
    "# Bayesian Ridge Regression\n",
    "zscore_brr = linear_model.BayesianRidge().fit(x_zscore, y_zscore)\n",
    "y_zscore_brr = zscore_brr.predict(x_teste_zscore)\n",
    "y_pred_zscore_brr = zscore_target_scaler.inverse_transform(y_zscore_brr.reshape(-1, 1))\n",
    "\n",
    "# Regressão Linear Simples (Linear Regression)\n",
    "zscore_rl = LinearRegression().fit(x_zscore, y_zscore)\n",
    "y_zscore_rl = zscore_rl.predict(x_teste_zscore)\n",
    "y_pred_zscore_rl = zscore_target_scaler.inverse_transform(y_zscore_rl.reshape(-1, 1))\n",
    "\n",
    "# Árvore de Decisão (decision tree)\n",
    "zscore_tree = tree.DecisionTreeRegressor(random_state = 1).fit(x_zscore, y_zscore)\n",
    "y_zscore_tree = zscore_tree.predict(x_teste_zscore)\n",
    "y_pred_zscore_tree = zscore_target_scaler.inverse_transform(y_zscore_tree.reshape(-1, 1))\n",
    "\n",
    "# (K Vizinhos Mais Próximos - KNN (K Nearest Neighbors))\n",
    "zscore_knn = KNeighborsRegressor(n_neighbors = 2, weights = \"uniform\").fit(x_zscore, y_zscore)\n",
    "y_zscore_knn = zscore_knn.predict(x_teste_zscore)\n",
    "y_pred_zscore_knn_uniform = zscore_target_scaler.inverse_transform(y_zscore_knn.reshape(-1, 1))\n",
    "\n",
    "zscore_knn = KNeighborsRegressor(n_neighbors = 2, weights = \"distance\").fit(x_zscore, y_zscore)\n",
    "y_zscore_knn_d = zscore_knn.predict(x_teste_zscore)\n",
    "y_pred_zscore_knn_distance = zscore_target_scaler.inverse_transform(y_zscore_knn_d.reshape(-1, 1))"
   ]
  },
  {
   "cell_type": "markdown",
   "metadata": {},
   "source": [
    "# Análise dos resultados\n",
    "Realizada através de RMSE (root mean squared error), no caso deste desafio."
   ]
  },
  {
   "cell_type": "markdown",
   "metadata": {},
   "source": [
    "### Importação das bibliotecas adicionais necessárias"
   ]
  },
  {
   "cell_type": "code",
   "execution_count": 32,
   "metadata": {},
   "outputs": [],
   "source": [
    "from sklearn.metrics import root_mean_squared_error"
   ]
  },
  {
   "cell_type": "markdown",
   "metadata": {},
   "source": [
    "### Sem normalização"
   ]
  },
  {
   "cell_type": "code",
   "execution_count": 33,
   "metadata": {},
   "outputs": [
    {
     "name": "stdout",
     "output_type": "stream",
     "text": [
      "Linear Regression\n",
      "30559.57135274195\n",
      "\n",
      "Decision Tree\n",
      "34970.65547960729\n",
      "\n",
      "KNN (uniform)\n",
      "48501.438175166266\n",
      "\n",
      "KNN (distance)\n",
      "49141.15194964844\n",
      "\n",
      "GBR\n",
      "23070.694059978698\n",
      "\n",
      "Ridge\n",
      "30233.440909420013\n",
      "\n",
      "Bayesian Ridge\n",
      "29259.50049038501\n"
     ]
    }
   ],
   "source": [
    "print(\"Linear Regression\")\n",
    "print(root_mean_squared_error(teste_y, y_rl))\n",
    "print(\"\\nDecision Tree\")\n",
    "print(root_mean_squared_error(teste_y, y_tree))\n",
    "print(\"\\nKNN (uniform)\")\n",
    "print(root_mean_squared_error(teste_y, y_knn_uniform))\n",
    "print(\"\\nKNN (distance)\")\n",
    "print(root_mean_squared_error(teste_y, y_knn_distance))\n",
    "print(\"\\nGBR\")\n",
    "print(root_mean_squared_error(teste_y, y_gbr))\n",
    "print(\"\\nRidge\")\n",
    "print(root_mean_squared_error(teste_y, y_ridge))\n",
    "print(\"\\nBayesian Ridge\")\n",
    "print(root_mean_squared_error(teste_y, y_brr))"
   ]
  },
  {
   "cell_type": "markdown",
   "metadata": {},
   "source": [
    "### Com normalização MinMax"
   ]
  },
  {
   "cell_type": "code",
   "execution_count": 34,
   "metadata": {},
   "outputs": [
    {
     "name": "stdout",
     "output_type": "stream",
     "text": [
      "Linear Regression\n",
      "1.0088888535169331e+17\n",
      "\n",
      "Decision Tree\n",
      "35753.24534931819\n",
      "\n",
      "KNN (uniform)\n",
      "90160.96677177127\n",
      "\n",
      "KNN (distance)\n",
      "94975.86855172628\n",
      "\n",
      "GBR\n",
      "29538.434801705633\n",
      "\n",
      "Ridge (menor observação aqui)\n",
      "44609.433461921755\n",
      "\n",
      "Bayesian Ridge\n",
      "42627.67107212412\n"
     ]
    }
   ],
   "source": [
    "print(\"Linear Regression\")\n",
    "print(root_mean_squared_error(teste_y, y_pred_minmax_rl))\n",
    "print(\"\\nDecision Tree\")\n",
    "print(root_mean_squared_error(teste_y, y_pred_minmax_tree))\n",
    "print(\"\\nKNN (uniform)\")\n",
    "print(root_mean_squared_error(teste_y, y_pred_minmax_knn_uniform))\n",
    "print(\"\\nKNN (distance)\")\n",
    "print(root_mean_squared_error(teste_y, y_pred_minmax_knn_distance))\n",
    "print(\"\\nGBR\")\n",
    "print(root_mean_squared_error(teste_y, y_pred_minmax_gbr))\n",
    "print(\"\\nRidge\")\n",
    "print(root_mean_squared_error(teste_y, y_pred_minmax_ridge))\n",
    "print(\"\\nBayesian Ridge\")\n",
    "print(root_mean_squared_error(teste_y, y_pred_minmax_brr))"
   ]
  },
  {
   "cell_type": "markdown",
   "metadata": {},
   "source": [
    "### Z-Score"
   ]
  },
  {
   "cell_type": "code",
   "execution_count": 35,
   "metadata": {},
   "outputs": [
    {
     "name": "stdout",
     "output_type": "stream",
     "text": [
      "Linear Regression (teve algum erro aqui, verificar)\n",
      "479244350581174.1\n",
      "\n",
      "Decision Tree\n",
      "36540.74166694272\n",
      "\n",
      "KNN (uniform)\n",
      "43025.70608958793\n",
      "\n",
      "KNN (distance)\n",
      "43056.13395747017\n",
      "\n",
      "GBR\n",
      "22802.00431839212\n",
      "\n",
      "Ridge\n",
      "29981.614299417324\n",
      "\n",
      "Bayesian Ridge\n",
      "29352.088597998456\n"
     ]
    }
   ],
   "source": [
    "print(\"Linear Regression\")\n",
    "print(root_mean_squared_error(teste_y, y_pred_zscore_rl))\n",
    "print(\"\\nDecision Tree\")\n",
    "print(root_mean_squared_error(teste_y, y_pred_zscore_tree))\n",
    "print(\"\\nKNN (uniform)\")\n",
    "print(root_mean_squared_error(teste_y, y_pred_zscore_knn_uniform))\n",
    "print(\"\\nKNN (distance)\")\n",
    "print(root_mean_squared_error(teste_y, y_pred_zscore_knn_distance))\n",
    "print(\"\\nGBR\")\n",
    "print(root_mean_squared_error(teste_y, y_pred_zscore_gbr))\n",
    "print(\"\\nRidge\")\n",
    "print(root_mean_squared_error(teste_y, y_pred_zscore_ridge))\n",
    "print(\"\\nBayesian Ridge\")\n",
    "print(root_mean_squared_error(teste_y, y_pred_zscore_brr))"
   ]
  },
  {
   "cell_type": "markdown",
   "metadata": {},
   "source": [
    "### Log"
   ]
  },
  {
   "cell_type": "code",
   "execution_count": 36,
   "metadata": {},
   "outputs": [
    {
     "name": "stdout",
     "output_type": "stream",
     "text": [
      "Linear Regression\n",
      "24981.610187822025\n",
      "\n",
      "Decision Tree\n",
      "37140.71167739285\n",
      "\n",
      "KNN (uniform)\n",
      "56383.03480272194\n",
      "\n",
      "KNN (distance)\n",
      "57041.89800109755\n",
      "\n",
      "GBR\n",
      "23930.435819131555\n",
      "\n",
      "Ridge - Menor valor, com as Dummies\n",
      "24551.457040955676\n",
      "\n",
      "Bayesian Ridge\n",
      "24604.992396156962\n"
     ]
    }
   ],
   "source": [
    "print(\"Linear Regression\")\n",
    "try: print(root_mean_squared_error(teste_y, y_pred_log_rl))\n",
    "except: print(\"Erro no resultado da Regressão Linear\")\n",
    "print(\"\\nDecision Tree\")\n",
    "print(root_mean_squared_error(teste_y, y_pred_log_tree))\n",
    "print(\"\\nKNN (uniform)\")\n",
    "print(root_mean_squared_error(teste_y, y_pred_log_knn_uniform))\n",
    "print(\"\\nKNN (distance)\")\n",
    "print(root_mean_squared_error(teste_y, y_pred_log_knn_distance))\n",
    "print(\"\\nGBR\")\n",
    "print(root_mean_squared_error(teste_y, y_pred_log_gbr))\n",
    "print(\"\\nRidge\")\n",
    "print(root_mean_squared_error(teste_y, y_pred_log_ridge))\n",
    "print(\"\\nBayesian Ridge\")\n",
    "print(root_mean_squared_error(teste_y, y_pred_log_brr))"
   ]
  },
  {
   "cell_type": "markdown",
   "metadata": {},
   "source": [
    "# Procedimentos de publicação"
   ]
  },
  {
   "cell_type": "markdown",
   "metadata": {},
   "source": [
    "## Previsões baseada nos modelos desenvolvidos"
   ]
  },
  {
   "cell_type": "markdown",
   "metadata": {},
   "source": [
    "Cada base de dados (normalizados/não-normalizado) teve uma breve diferença de resultados entre os melhores colocados de cada modelagem. Aqui serão gerados arquivos para submissão com o melhor de cada categoria bem como um stacked com a média das melhores previsões."
   ]
  },
  {
   "cell_type": "markdown",
   "metadata": {},
   "source": [
    "### Dados de teste e dummies"
   ]
  },
  {
   "cell_type": "code",
   "execution_count": 37,
   "metadata": {},
   "outputs": [
    {
     "name": "stderr",
     "output_type": "stream",
     "text": [
      "/tmp/ipykernel_145924/2358745574.py:10: FutureWarning: In a future version, the Index constructor will not infer numeric dtypes when passed object-dtype sequences (matching Series behavior)\n",
      "  dummies_temp = pd.get_dummies(quali_temp)\n",
      "/tmp/ipykernel_145924/2358745574.py:10: FutureWarning: In a future version, the Index constructor will not infer numeric dtypes when passed object-dtype sequences (matching Series behavior)\n",
      "  dummies_temp = pd.get_dummies(quali_temp)\n",
      "/tmp/ipykernel_145924/2358745574.py:10: FutureWarning: In a future version, the Index constructor will not infer numeric dtypes when passed object-dtype sequences (matching Series behavior)\n",
      "  dummies_temp = pd.get_dummies(quali_temp)\n"
     ]
    }
   ],
   "source": [
    "quali_final = variaveis_quali_backup[variaveis_quali_backup[\"Origem\"] == \"Teste\"]\n",
    "quali_final.reset_index(inplace = True)\n",
    "quali_final = quali_final.drop([\"Origem\", \"index\"], axis = 1)\n",
    "\n",
    "quanti_final = variaveis_quanti_teste[variaveis_quali_backup[\"Origem\"] == \"Teste\"]\n",
    "quanti_final.reset_index(inplace = True)\n",
    "quanti_final = quanti_final.drop([\"Origem\", \"index\", \"SalePrice\"], axis = 1)\n",
    "\n",
    "quali_temp = variaveis_quali_backup.drop(\"Origem\", axis = 1)\n",
    "dummies_temp = pd.get_dummies(quali_temp)\n",
    "dummies_temp[\"Origem\"] = variaveis_quali_backup[\"Origem\"]\n",
    "dummies_final = dummies_temp[dummies_temp[\"Origem\"] == \"Teste\"]\n",
    "dummies_final.reset_index(inplace = True)\n",
    "dummies_final = dummies_final.drop([\"Origem\", \"index\"], axis = 1)\n",
    "colunas_invalidas = list(dummies_final.columns[dummies_final.columns.isin(quali_dummies.columns) == False])\n",
    "dummies_final = dummies_final.drop(colunas_invalidas, axis = 1)"
   ]
  },
  {
   "cell_type": "markdown",
   "metadata": {},
   "source": [
    "### Modelo sem normalização"
   ]
  },
  {
   "cell_type": "code",
   "execution_count": 63,
   "metadata": {},
   "outputs": [],
   "source": [
    "# Incluindo as dummies (não-normalizadas)\n",
    "final_sn = pd.concat([quanti_final, dummies_final], axis=\"columns\")\n",
    "final_sn.columns = range(len(final_sn.columns))\n",
    "\n",
    "# Realizando a previsão (buscar lá na modelagem)\n",
    "y_sn_sub = sn_gbr.predict(final_sn)"
   ]
  },
  {
   "cell_type": "markdown",
   "metadata": {},
   "source": [
    "### Modelo com normalização MinMax"
   ]
  },
  {
   "cell_type": "code",
   "execution_count": 59,
   "metadata": {},
   "outputs": [],
   "source": [
    "# Normalizando os dados todos\n",
    "minmax_scaler = MinMaxScaler()\n",
    "#y_minmax = minmax_scaler.fit_transform(pd.DataFrame(dados_polidos_y)) #só é necessário se for refazer o modelo com a totalidade das informações\n",
    "x_final_minmax = minmax_scaler.fit_transform(quanti_final)\n",
    "\n",
    "# Incluindo as dummies (não-normalizadas)\n",
    "final_minmax = pd.concat([pd.DataFrame(x_final_minmax), dummies_final], axis=\"columns\")\n",
    "final_minmax.columns = range(len(final_minmax.columns))\n",
    "\n",
    "# Realizando a previsão (buscar lá na modelagem)\n",
    "y_final_minmax = minmax_gbr.predict(final_minmax)\n",
    "y_minmax_sub = minmax_target_scaler.inverse_transform(y_final_minmax.reshape(-1, 1))\n"
   ]
  },
  {
   "cell_type": "markdown",
   "metadata": {},
   "source": [
    "### Modelo com normalização Z-Score"
   ]
  },
  {
   "cell_type": "code",
   "execution_count": 60,
   "metadata": {},
   "outputs": [],
   "source": [
    "# Normalizando os dados\n",
    "zscore_scaler = StandardScaler()\n",
    "x_final_zscore = zscore_scaler.fit_transform(quanti_final)\n",
    "\n",
    "# Incluindo as dummies (não-normalizadas)\n",
    "x_final_zscore = pd.concat([pd.DataFrame(x_final_zscore), dummies_final], axis=\"columns\")\n",
    "x_final_zscore.columns = range(len(x_final_zscore.columns))\n",
    "\n",
    "# Realizando a previsão (buscar lá na modelagem)\n",
    "y_zscore_gbr = zscore_gbr.predict(x_final_zscore)\n",
    "y_zscore_sub = zscore_target_scaler.inverse_transform(y_zscore_gbr.reshape(-1, 1))"
   ]
  },
  {
   "cell_type": "markdown",
   "metadata": {},
   "source": [
    "### Modelo com normalização Log"
   ]
  },
  {
   "cell_type": "code",
   "execution_count": 61,
   "metadata": {},
   "outputs": [],
   "source": [
    "# Normalizando os dados\n",
    "log_scaler = FunctionTransformer(np.log1p)\n",
    "x_final_log = log_scaler.fit_transform(quanti_final)\n",
    "x_final_log.reset_index(inplace = True)\n",
    "x_final_log = x_final_log.drop(\"index\", axis = 1)\n",
    "\n",
    "# Incluindo as dummies (não-normalizadas)\n",
    "x_final_log = pd.concat([pd.DataFrame(x_final_log), dummies_final], axis=\"columns\")\n",
    "x_final_log.columns = range(len(x_final_log.columns))\n",
    "\n",
    "# Realizando a previsão (buscar lá na modelagem)\n",
    "y_log_modelo_final = log_gbr.predict(x_final_log)\n",
    "y_log_sub = np.expm1(y_log_modelo_final)"
   ]
  },
  {
   "cell_type": "markdown",
   "metadata": {},
   "source": [
    "## Gerando arquivos de submissão"
   ]
  },
  {
   "cell_type": "code",
   "execution_count": null,
   "metadata": {},
   "outputs": [],
   "source": [
    "# Sem Normalização\n",
    "submissao_sn = pd.read_csv(\"test.csv\")\n",
    "submissao_sn[\"SalePrice\"] = y_sn_sub\n",
    "resultado_sn = submissao_sn[[\"Id\", \"SalePrice\"]]\n",
    "#resultado_sn.to_csv(\"resultado_sem_normalizacao.csv\", index=False)\n",
    "#resultado_sn.to_csv(\"resultado_sem_normalizacao_dummies.csv\", index=False)\n",
    "#resultado_sn.to_csv(\"resultado_sem_norm_dummies_outLotFrontage.csv\", index=False)\n",
    "#resultado_sn.to_csv(\"resultado_sem_norm_dummies_outSalePrice.csv\", index=False)\n",
    "resultado_sn.to_csv(\"resultado_sn_outLotFrontage_TerrenoLivre.csv\", index=False)\n",
    "\n",
    "# Com Normalização MinMax\n",
    "submissao_minmax = pd.read_csv(\"test.csv\")\n",
    "submissao_minmax[\"SalePrice\"] = y_minmax_sub\n",
    "resultado_minmax = submissao_minmax[[\"Id\", \"SalePrice\"]]\n",
    "#resultado_minmax.to_csv(\"resultado_norm_minmax.csv\", index=False)\n",
    "#resultado_minmax.to_csv(\"resultado_norm_minmax_dummies.csv\", index=False)\n",
    "resultado_minmax.to_csv(\"resultado_minmax_outLotFrontage_TerrenoLivre.csv\", index=False)\n",
    "\n",
    "\n",
    "# Com Normalização Z-Score\n",
    "submissao_zscore = pd.read_csv(\"test.csv\")\n",
    "submissao_zscore[\"SalePrice\"] = y_zscore_sub\n",
    "resultado_zscore = submissao_zscore[[\"Id\", \"SalePrice\"]]\n",
    "#resultado_zscore.to_csv(\"resultado_norm_zscore.csv\", index=False)\n",
    "#resultado_zscore.to_csv(\"resultado_norm_zscore_dummies.csv\", index=False)\n",
    "#resultado_zscore.to_csv(\"resultado_norm_zscore_dummies_outLotFrontage.csv\", index=False)\n",
    "#resultado_zscore.to_csv(\"resultado_norm_zscore_dummies_outSalePrice.csv\", index=False)\n",
    "resultado_zscore.to_csv(\"resultado_zscore_outLotFrontage_TerrenoLivre.csv\", index=False)\n",
    "\n",
    "# Com Normalização Log\n",
    "submissao_log = pd.read_csv(\"test.csv\")\n",
    "submissao_log[\"SalePrice\"] = y_log_sub\n",
    "resultado_log = submissao_log[[\"Id\", \"SalePrice\"]]\n",
    "#resultado_log.to_csv(\"resultado_norm_log.csv\", index=False)\n",
    "#resultado_log.to_csv(\"resultado_norm_log_dummies.csv\", index=False)\n",
    "#resultado_log.to_csv(\"resultado_norm_log_dummies_outLotFrontage.csv\", index=False)\n",
    "#resultado_log.to_csv(\"resultado_norm_log_dummies_outSalePrice.csv\", index=False)\n",
    "resultado_log.to_csv(\"resultado_log_outLotFrontage_TerrenoLivre.csv\", index=False)\n",
    "\n",
    "# Stacked Normalizações\n",
    "submissao_stacked_norm = pd.read_csv(\"test.csv\")\n",
    "\n",
    "stacked_media = pd.DataFrame(y_sn_sub)\n",
    "stacked_media = stacked_media + pd.DataFrame(y_minmax_sub)\n",
    "stacked_media = stacked_media + pd.DataFrame(y_zscore_sub)\n",
    "stacked_media = stacked_media + pd.DataFrame(y_log_sub)\n",
    "stacked_media = stacked_media/4\n",
    "\n",
    "submissao_stacked_norm[\"SalePrice\"] = stacked_media\n",
    "resultado_stacked_norm = submissao_stacked_norm[[\"Id\", \"SalePrice\"]]\n",
    "resultado_stacked_norm.to_csv(\"resultado_stacked_outLotFrontage_TerrenoLivre.csv\", index=False)"
   ]
  },
  {
   "cell_type": "markdown",
   "metadata": {},
   "source": [
    "## Resultados"
   ]
  },
  {
   "cell_type": "markdown",
   "metadata": {},
   "source": [
    "#### Sem tratamento apropriado dos dados - min 0.14162"
   ]
  },
  {
   "cell_type": "markdown",
   "metadata": {},
   "source": [
    "Pontuação 'crua' 0.14569 (quanto menor, melhor)\n",
    "\n",
    "Pontuação y_log_final 0.14162"
   ]
  },
  {
   "cell_type": "markdown",
   "metadata": {},
   "source": [
    "#### (22/05) Normalização, sem variáveis quali - min 0.14159"
   ]
  },
  {
   "cell_type": "markdown",
   "metadata": {},
   "source": [
    "Pontuação Normalização LOG 0.14337\n",
    "\n",
    "Pontuação Normalização MinMax 0.60592\n",
    "\n",
    "Pontuação Normalização Z-Score 0.15056\n",
    "\n",
    "Pontuação Sem Normalização 0.14783\n",
    "\n",
    "Pontuação Stacked (com MinMax) 0.14159\n",
    "\n",
    "Pontuação Stacked (sem MinMax) 0.14380"
   ]
  },
  {
   "cell_type": "markdown",
   "metadata": {},
   "source": [
    "#### (23/05) Normalização, com variáveis quali - min 0.12760"
   ]
  },
  {
   "cell_type": "markdown",
   "metadata": {},
   "source": [
    "Pontuação Normalização LOG com dummies 0.12872\n",
    "\n",
    "Pontuação Normalização MinMax com dummies 0.62852\n",
    "\n",
    "Pontuação Normalização Z-Score com dummies 0.14158\n",
    "\n",
    "Pontuação Sem Normalização com dummies 0.13726\n",
    "\n",
    "Pontuação Stacked (com MinMax) com dummies 0.13253\n",
    "\n",
    "Pontuação Stacked (sem MinMax) com dummies 0.12760"
   ]
  },
  {
   "cell_type": "markdown",
   "metadata": {},
   "source": [
    "#### (24/05) Normalização, dummies, outliers filtrados - min 0.14532 (log)"
   ]
  },
  {
   "cell_type": "markdown",
   "metadata": {},
   "source": [
    "    Outliers retirados de LotFrontage e TerrenoLivre\n",
    "\n",
    "Pontuação Normalização LOG 0.14532\n",
    "\n",
    "Pontuação Normalização MinMax 0.20137\n",
    "\n",
    "Pontuação Normalização Z-Score 0.15770\n",
    "\n",
    "Pontuação Sem Normalização 0.15057\n",
    "\n",
    "Pontuação Stacked (com MinMax) 0.15408"
   ]
  }
 ],
 "metadata": {
  "kernelspec": {
   "display_name": "Python 3",
   "language": "python",
   "name": "python3"
  },
  "language_info": {
   "codemirror_mode": {
    "name": "ipython",
    "version": 3
   },
   "file_extension": ".py",
   "mimetype": "text/x-python",
   "name": "python",
   "nbconvert_exporter": "python",
   "pygments_lexer": "ipython3",
   "version": "3.12.3"
  }
 },
 "nbformat": 4,
 "nbformat_minor": 2
}
